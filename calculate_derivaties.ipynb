{
 "cells": [
  {
   "cell_type": "code",
   "execution_count": 2,
   "metadata": {},
   "outputs": [
    {
     "data": {
      "text/latex": [
       "$\\displaystyle \\frac{d}{d x} \\left(x^{4} + 4 x^{2} + 5 x - 6\\right)$"
      ],
      "text/plain": [
       "Derivative(x**4 + 4*x**2 + 5*x - 6, x)"
      ]
     },
     "execution_count": 2,
     "metadata": {},
     "output_type": "execute_result"
    }
   ],
   "source": [
    "import sympy as sym\n",
    "\n",
    "x = sym.Symbol('x')\n",
    "\n",
    "func = x**4+4*x**2+5*x-6\n",
    "\n",
    "sym.Derivative(func, x)"
   ]
  },
  {
   "cell_type": "code",
   "execution_count": 4,
   "metadata": {},
   "outputs": [
    {
     "data": {
      "text/latex": [
       "$\\displaystyle 4 x^{3} + 8 x + 5$"
      ],
      "text/plain": [
       "4*x**3 + 8*x + 5"
      ]
     },
     "execution_count": 4,
     "metadata": {},
     "output_type": "execute_result"
    }
   ],
   "source": [
    "sym.Derivative(func, x, evaluate=True)"
   ]
  },
  {
   "cell_type": "code",
   "execution_count": 5,
   "metadata": {},
   "outputs": [
    {
     "data": {
      "text/latex": [
       "$\\displaystyle 4 x^{3} + 8 x + 5$"
      ],
      "text/plain": [
       "4*x**3 + 8*x + 5"
      ]
     },
     "execution_count": 5,
     "metadata": {},
     "output_type": "execute_result"
    }
   ],
   "source": [
    "func.diff(x)"
   ]
  },
  {
   "cell_type": "code",
   "execution_count": 8,
   "metadata": {},
   "outputs": [
    {
     "name": "stdout",
     "output_type": "stream",
     "text": [
      "Значение функции при х=5: 744\n",
      "Значение производной функции при х=5: 545\n"
     ]
    }
   ],
   "source": [
    "expr = sym.lambdify(x, func)\n",
    "expr_der = sym.lambdify(x, func.diff(x))\n",
    "\n",
    "print(f'Значение функции при х=5: {expr(5)}')\n",
    "print(f'Значение производной функции при х=5: {expr_der(5)}')"
   ]
  }
 ],
 "metadata": {
  "kernelspec": {
   "display_name": "Python 3",
   "language": "python",
   "name": "python3"
  },
  "language_info": {
   "codemirror_mode": {
    "name": "ipython",
    "version": 3
   },
   "file_extension": ".py",
   "mimetype": "text/x-python",
   "name": "python",
   "nbconvert_exporter": "python",
   "pygments_lexer": "ipython3",
   "version": "3.11.7"
  }
 },
 "nbformat": 4,
 "nbformat_minor": 2
}
