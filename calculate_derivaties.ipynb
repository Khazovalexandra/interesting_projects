{
 "cells": [
  {
   "cell_type": "code",
   "execution_count": 17,
   "metadata": {},
   "outputs": [
    {
     "data": {
      "text/latex": [
       "$\\displaystyle \\frac{d}{d x} \\left(x^{4} + 4 x^{2} + 5 x - 6\\right)$"
      ],
      "text/plain": [
       "Derivative(x**4 + 4*x**2 + 5*x - 6, x)"
      ]
     },
     "execution_count": 17,
     "metadata": {},
     "output_type": "execute_result"
    }
   ],
   "source": [
    "import sympy as sym\n",
    "\n",
    "x = sym.Symbol('x')\n",
    "\n",
    "func = x**4+4*x**2+5*x-6\n",
    "\n",
    "sym.Derivative(func, x)"
   ]
  },
  {
   "cell_type": "code",
   "execution_count": 18,
   "metadata": {},
   "outputs": [
    {
     "data": {
      "text/latex": [
       "$\\displaystyle 4 x^{3} + 8 x + 5$"
      ],
      "text/plain": [
       "4*x**3 + 8*x + 5"
      ]
     },
     "execution_count": 18,
     "metadata": {},
     "output_type": "execute_result"
    }
   ],
   "source": [
    "sym.Derivative(func, x, evaluate=True)"
   ]
  },
  {
   "cell_type": "code",
   "execution_count": 19,
   "metadata": {},
   "outputs": [
    {
     "data": {
      "text/latex": [
       "$\\displaystyle 4 x^{3} + 8 x + 5$"
      ],
      "text/plain": [
       "4*x**3 + 8*x + 5"
      ]
     },
     "execution_count": 19,
     "metadata": {},
     "output_type": "execute_result"
    }
   ],
   "source": [
    "func.diff(x)"
   ]
  },
  {
   "cell_type": "code",
   "execution_count": 20,
   "metadata": {},
   "outputs": [
    {
     "name": "stdout",
     "output_type": "stream",
     "text": [
      "Значение функции при х=5: 744\n",
      "Значение производной функции при х=5: 545\n"
     ]
    }
   ],
   "source": [
    "expr = sym.lambdify(x, func)\n",
    "expr_der = sym.lambdify(x, func.diff(x))\n",
    "\n",
    "print(f'Значение функции при х=5: {expr(5)}')\n",
    "print(f'Значение производной функции при х=5: {expr_der(5)}')"
   ]
  },
  {
   "cell_type": "markdown",
   "metadata": {},
   "source": [
    "Взятие производной от функции $$f(x) = ln(1 + e^{-x})$$ "
   ]
  },
  {
   "cell_type": "code",
   "execution_count": 34,
   "metadata": {},
   "outputs": [
    {
     "data": {
      "text/latex": [
       "$\\displaystyle \\log{\\left(1 + e^{- x} \\right)}$"
      ],
      "text/plain": [
       "log(1 + e**(-x))"
      ]
     },
     "execution_count": 34,
     "metadata": {},
     "output_type": "execute_result"
    }
   ],
   "source": [
    "import math\n",
    "\n",
    "x = sym.Symbol('x') \n",
    "e = sym.Symbol('e') \n",
    "expr = sym.log(1+e**(-x))\n",
    "expr"
   ]
  },
  {
   "cell_type": "code",
   "execution_count": 35,
   "metadata": {},
   "outputs": [
    {
     "data": {
      "text/latex": [
       "$\\displaystyle \\frac{\\partial}{\\partial x} \\log{\\left(1 + e^{- x} \\right)}$"
      ],
      "text/plain": [
       "Derivative(log(1 + e**(-x)), x)"
      ]
     },
     "execution_count": 35,
     "metadata": {},
     "output_type": "execute_result"
    }
   ],
   "source": [
    "sym.Derivative(expr, x)"
   ]
  },
  {
   "cell_type": "code",
   "execution_count": 33,
   "metadata": {},
   "outputs": [
    {
     "data": {
      "text/latex": [
       "$\\displaystyle - \\frac{e^{- x} \\log{\\left(e \\right)}}{1 + e^{- x}}$"
      ],
      "text/plain": [
       "-log(e)/(e**x*(1 + e**(-x)))"
      ]
     },
     "execution_count": 33,
     "metadata": {},
     "output_type": "execute_result"
    }
   ],
   "source": [
    "sym.Derivative(expr, x, evaluate=True)"
   ]
  },
  {
   "cell_type": "markdown",
   "metadata": {},
   "source": [
    "Получается: $$df(x) = -\\frac{e^{-x}ln(e)}{(1 + e^{-x})}$$ "
   ]
  }
 ],
 "metadata": {
  "kernelspec": {
   "display_name": "Python 3",
   "language": "python",
   "name": "python3"
  },
  "language_info": {
   "codemirror_mode": {
    "name": "ipython",
    "version": 3
   },
   "file_extension": ".py",
   "mimetype": "text/x-python",
   "name": "python",
   "nbconvert_exporter": "python",
   "pygments_lexer": "ipython3",
   "version": "3.11.7"
  }
 },
 "nbformat": 4,
 "nbformat_minor": 2
}
